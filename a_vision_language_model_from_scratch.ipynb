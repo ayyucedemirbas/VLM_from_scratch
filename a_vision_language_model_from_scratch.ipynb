{
  "nbformat": 4,
  "nbformat_minor": 0,
  "metadata": {
    "colab": {
      "provenance": [],
      "gpuType": "T4"
    },
    "kernelspec": {
      "name": "python3",
      "display_name": "Python 3"
    },
    "language_info": {
      "name": "python"
    },
    "accelerator": "GPU"
  },
  "cells": [
    {
      "cell_type": "code",
      "source": [
        "!pip install tensorflow_text"
      ],
      "metadata": {
        "id": "8ni9jXGRBPyY"
      },
      "execution_count": null,
      "outputs": []
    },
    {
      "cell_type": "code",
      "source": [
        "import random\n",
        "import json\n",
        "import tensorflow as tf\n",
        "import zipfile"
      ],
      "metadata": {
        "id": "oqMPPFaJAsL2"
      },
      "execution_count": 1,
      "outputs": []
    },
    {
      "cell_type": "code",
      "source": [
        "coco = tf.keras.utils.get_file(\n",
        "        'train2017.zip',\n",
        "        'http://images.cocodataset.org/zips/train2017.zip',\n",
        "        extract=True\n",
        "    )\n",
        "annotations = tf.keras.utils.get_file(\n",
        "        'captions_train2017.json',\n",
        "        'http://images.cocodataset.org/annotations/annotations_trainval2017.zip',\n",
        "        extract=True\n",
        "    )"
      ],
      "metadata": {
        "colab": {
          "base_uri": "https://localhost:8080/"
        },
        "id": "RZ2NSBUyAt__",
        "outputId": "dfeaa01d-da2a-4c21-e202-09fc81ec5aaf"
      },
      "execution_count": 2,
      "outputs": [
        {
          "output_type": "stream",
          "name": "stdout",
          "text": [
            "Downloading data from http://images.cocodataset.org/zips/train2017.zip\n",
            "\u001b[1m19336861798/19336861798\u001b[0m \u001b[32m━━━━━━━━━━━━━━━━━━━━\u001b[0m\u001b[37m\u001b[0m \u001b[1m390s\u001b[0m 0us/step\n",
            "Downloading data from http://images.cocodataset.org/annotations/annotations_trainval2017.zip\n",
            "\u001b[1m252907541/252907541\u001b[0m \u001b[32m━━━━━━━━━━━━━━━━━━━━\u001b[0m\u001b[37m\u001b[0m \u001b[1m5s\u001b[0m 0us/step\n"
          ]
        }
      ]
    },
    {
      "cell_type": "markdown",
      "source": [
        "annotations/instances_train2017.json\n",
        "\n",
        "annotations/instances_val2017.json\n",
        "\n",
        "annotations/captions_train2017.json\n",
        "\n",
        "annotations/captions_val2017.json\n",
        "\n",
        "annotations/person_keypoints_train2017.json\n",
        "\n",
        "annotations/person_keypoints_val2017.json"
      ],
      "metadata": {
        "id": "utOY9BPETv-r"
      }
    },
    {
      "cell_type": "code",
      "source": [
        "try:\n",
        "    with zipfile.ZipFile(annotations, 'r') as zip_file:\n",
        "        with zip_file.open('annotations/instances_train2017.json') as f:\n",
        "            annotations_data = json.load(f)\n",
        "            print(\"Successfully loaded JSON data\")\n",
        "            if isinstance(annotations_data, dict):\n",
        "                print(\"Available keys:\", annotations_data.keys())\n",
        "except Exception as e:\n",
        "    print(f\"Error: {e}\")"
      ],
      "metadata": {
        "colab": {
          "base_uri": "https://localhost:8080/"
        },
        "id": "lXbjjNo3AzCI",
        "outputId": "af69e1c9-7b35-4f91-cb42-2f5d7ba3b5dc"
      },
      "execution_count": 3,
      "outputs": [
        {
          "output_type": "stream",
          "name": "stdout",
          "text": [
            "Successfully loaded JSON data\n",
            "Available keys: dict_keys(['info', 'licenses', 'images', 'annotations', 'categories'])\n"
          ]
        }
      ]
    },
    {
      "cell_type": "code",
      "source": [
        "tokenizer = tf.keras.preprocessing.text.Tokenizer(\n",
        "        num_words=5000,\n",
        "        oov_token=\"<unk>\",\n",
        "        filters='!\"#$%&()*+.,-/:;=?@[\\]^_`{|}~ '\n",
        ")"
      ],
      "metadata": {
        "id": "6DWE0_58A20x"
      },
      "execution_count": 4,
      "outputs": []
    },
    {
      "cell_type": "code",
      "source": [
        "try:\n",
        "    with zipfile.ZipFile(annotations, 'r') as zip_file:\n",
        "\n",
        "        with zip_file.open('annotations/captions_train2017.json') as f:\n",
        "            annotations_data = json.load(f)\n",
        "            captions = [ann['caption'] for ann in annotations_data['annotations']]\n",
        "            tokenizer.fit_on_texts(captions)\n",
        "            image_size = 224\n",
        "            vocab_size = len(tokenizer.word_index) + 1\n",
        "            max_length = 50\n",
        "            print(f\"Number of captions loaded: {len(captions)}\")\n",
        "            print(f\"Vocabulary size: {vocab_size}\")\n",
        "\n",
        "            print(\"\\nFirst few captions:\")\n",
        "            for cap in captions[:3]:\n",
        "                print(cap)\n",
        "\n",
        "except Exception as e:\n",
        "    print(f\"Error: {e}\")"
      ],
      "metadata": {
        "colab": {
          "base_uri": "https://localhost:8080/"
        },
        "id": "rsHcJy0kA81f",
        "outputId": "5c320a4e-dca3-415d-867e-48f28ad66aa7"
      },
      "execution_count": 5,
      "outputs": [
        {
          "output_type": "stream",
          "name": "stdout",
          "text": [
            "Number of captions loaded: 591753\n",
            "Vocabulary size: 27951\n",
            "\n",
            "First few captions:\n",
            "A bicycle replica with a clock as the front wheel.\n",
            "A room with blue walls and a white sink and door.\n",
            "A car that seems to be parked illegally behind a legally parked car\n"
          ]
        }
      ]
    },
    {
      "cell_type": "code",
      "execution_count": 6,
      "metadata": {
        "id": "VQ1YJzK-_n7G"
      },
      "outputs": [],
      "source": [
        "captions = [ann['caption'] for ann in annotations_data['annotations']]\n",
        "tokenizer.fit_on_texts(captions)\n",
        "\n",
        "image_size = 224\n",
        "vocab_size = len(tokenizer.word_index) + 1\n",
        "max_length = 50"
      ]
    },
    {
      "cell_type": "code",
      "source": [
        "import tensorflow as tf\n",
        "from tensorflow.keras import layers, models\n",
        "import numpy as np"
      ],
      "metadata": {
        "id": "CTvx9iAPA__T"
      },
      "execution_count": 7,
      "outputs": []
    },
    {
      "cell_type": "code",
      "source": [
        "image_size = 224\n",
        "vocab_size = 5001\n",
        "max_length = 50\n",
        "embedding_dim = 256\n",
        "num_heads = 8\n",
        "ff_dim = 512\n",
        "num_transformer_blocks = 4"
      ],
      "metadata": {
        "id": "GQbONdZyBBl5"
      },
      "execution_count": 8,
      "outputs": []
    },
    {
      "cell_type": "code",
      "source": [
        "def create_vit_encoder(image_size):\n",
        "    inputs = layers.Input(shape=(image_size, image_size, 3))\n",
        "\n",
        "    patch_size = 16\n",
        "    num_patches = (image_size // patch_size) ** 2\n",
        "    projection_dim = 768\n",
        "\n",
        "    patches = layers.Conv2D(\n",
        "        filters=projection_dim,\n",
        "        kernel_size=patch_size,\n",
        "        strides=patch_size,\n",
        "        padding=\"valid\"\n",
        "    )(inputs)\n",
        "\n",
        "    patches = layers.Reshape((num_patches, projection_dim))(patches)\n",
        "\n",
        "    positional_embedding = layers.Embedding(input_dim=num_patches, output_dim=projection_dim)\n",
        "    positions = tf.range(start=0, limit=num_patches, delta=1)\n",
        "    encoded_patches = patches + positional_embedding(positions)\n",
        "\n",
        "    for _ in range(num_transformer_blocks):\n",
        "        x1 = layers.LayerNormalization(epsilon=1e-6)(encoded_patches)\n",
        "        attention_output = layers.MultiHeadAttention(\n",
        "            num_heads=num_heads, key_dim=projection_dim)(x1, x1)\n",
        "        x2 = layers.Add()([x1, attention_output])\n",
        "\n",
        "        x3 = layers.LayerNormalization(epsilon=1e-6)(x2)\n",
        "        ffn_output = layers.Dense(ff_dim, activation=\"relu\")(x3)\n",
        "        ffn_output = layers.Dense(projection_dim)(ffn_output)\n",
        "        encoded_patches = layers.Add()([x2, ffn_output])\n",
        "\n",
        "    model = models.Model(inputs, encoded_patches)\n",
        "    return model\n",
        "\n",
        "def create_text_decoder(vocab_size, embedding_dim, max_length):\n",
        "    inputs = layers.Input(shape=(max_length,))\n",
        "\n",
        "    # Word Embeddings + Positional Embeddings\n",
        "    word_embeddings = layers.Embedding(vocab_size, embedding_dim)(inputs)\n",
        "    positional_embeddings = layers.Embedding(max_length, embedding_dim)(tf.range(start=0, limit=max_length, delta=1))\n",
        "    embeddings = word_embeddings + positional_embeddings\n",
        "\n",
        "    x = embeddings\n",
        "    for _ in range(num_transformer_blocks):\n",
        "        x1 = layers.LayerNormalization(epsilon=1e-6)(x)\n",
        "        attention_output = layers.MultiHeadAttention(\n",
        "            num_heads=num_heads, key_dim=embedding_dim)(x1, x1)\n",
        "        x2 = layers.Add()([x1, attention_output])\n",
        "\n",
        "        x3 = layers.LayerNormalization(epsilon=1e-6)(x2)\n",
        "        ffn_output = layers.Dense(ff_dim, activation=\"relu\")(x3)\n",
        "        ffn_output = layers.Dense(embedding_dim)(ffn_output)\n",
        "        x = layers.Add()([x2, ffn_output])\n",
        "\n",
        "    outputs = layers.Dense(vocab_size, activation=\"softmax\")(x)\n",
        "    model = models.Model(inputs, outputs)\n",
        "    return model\n",
        "\n",
        "def create_image_captioning_model(image_size, vocab_size, embedding_dim, max_length):\n",
        "    vit_encoder = create_vit_encoder(image_size)\n",
        "    text_decoder = create_text_decoder(vocab_size, embedding_dim, max_length)\n",
        "\n",
        "    image_inputs = layers.Input(shape=(image_size, image_size, 3), name='input_layer_2')\n",
        "    text_inputs = layers.Input(shape=(max_length,), name='input_layer_3')\n",
        "\n",
        "    encoded_image = vit_encoder(image_inputs)\n",
        "\n",
        "    encoded_image = layers.GlobalAveragePooling1D()(encoded_image)\n",
        "    encoded_image = layers.Dense(embedding_dim, activation=\"relu\")(encoded_image)\n",
        "    encoded_image = layers.RepeatVector(max_length)(encoded_image)\n",
        "\n",
        "\n",
        "    embeddings = layers.Concatenate(axis=2)([encoded_image, text_decoder(text_inputs)])\n",
        "\n",
        "    outputs = layers.Dense(vocab_size, activation=\"softmax\")(embeddings)\n",
        "\n",
        "    model = models.Model(inputs=[image_inputs, text_inputs], outputs=outputs)\n",
        "    return model"
      ],
      "metadata": {
        "id": "4-53qcp3_1MD"
      },
      "execution_count": 9,
      "outputs": []
    },
    {
      "cell_type": "code",
      "source": [
        "\"\"\"try:\n",
        "    from tensorflow.keras.preprocessing.text import Tokenizer\n",
        "except:\n",
        "    !pip install tensorflow_text\"\"\""
      ],
      "metadata": {
        "id": "WsH4XMhtBo-N"
      },
      "execution_count": null,
      "outputs": []
    },
    {
      "cell_type": "code",
      "source": [
        "import os"
      ],
      "metadata": {
        "id": "RERHJURuDHYS"
      },
      "execution_count": 10,
      "outputs": []
    },
    {
      "cell_type": "code",
      "source": [
        "from tensorflow.keras.utils import Sequence\n",
        "from tensorflow.keras.preprocessing.image import load_img, img_to_array"
      ],
      "metadata": {
        "id": "3T5HCg0KDVxY"
      },
      "execution_count": 11,
      "outputs": []
    },
    {
      "cell_type": "code",
      "source": [
        "image_dir = '/root/.keras/datasets/train2017'\n",
        "annotations_file = '/root/.keras/datasets/annotations/captions_train2017.json'"
      ],
      "metadata": {
        "id": "7S8tq49mDaLm"
      },
      "execution_count": 12,
      "outputs": []
    },
    {
      "cell_type": "code",
      "source": [
        "from tensorflow.keras.preprocessing.text import Tokenizer\n",
        "\n",
        "tokenizer = Tokenizer(num_words=vocab_size, oov_token=\"<unk>\")\n",
        "with open(annotations_file, 'r') as f:\n",
        "    annotations_data = json.load(f)\n",
        "    captions = [ann['caption'] for ann in annotations_data['annotations']]\n",
        "tokenizer.fit_on_texts(captions)"
      ],
      "metadata": {
        "id": "GPqck9HZDcq_"
      },
      "execution_count": 13,
      "outputs": []
    },
    {
      "cell_type": "code",
      "source": [
        "class ImageCaptioningDataGenerator(Sequence):\n",
        "    def __init__(self, image_dir, annotations_file, tokenizer, batch_size, image_size, max_length):\n",
        "        with open(annotations_file, 'r') as f:\n",
        "            annotations_data = json.load(f)\n",
        "        self.image_dir = image_dir\n",
        "        self.annotations = annotations_data['annotations']\n",
        "        self.tokenizer = tokenizer\n",
        "        self.batch_size = batch_size\n",
        "        self.image_size = image_size\n",
        "        self.max_length = max_length\n",
        "        self.indices = np.arange(len(self.annotations))\n",
        "\n",
        "    def __len__(self):\n",
        "        return len(self.annotations) // self.batch_size\n",
        "\n",
        "    def __getitem__(self, idx):\n",
        "        batch_indices = self.indices[idx * self.batch_size:(idx + 1) * self.batch_size]\n",
        "        batch_annotations = [self.annotations[i] for i in batch_indices]\n",
        "\n",
        "\n",
        "        batch_images = np.zeros((self.batch_size, self.image_size, self.image_size, 3))\n",
        "        batch_sequences = np.zeros((self.batch_size, self.max_length))\n",
        "        batch_targets = np.zeros((self.batch_size, self.max_length))\n",
        "\n",
        "        # Fill batch arrays\n",
        "        for i, annotation in enumerate(batch_annotations):\n",
        "            image_id = annotation['image_id']\n",
        "            image_path = os.path.join(self.image_dir, f\"{str(image_id).zfill(12)}.jpg\")\n",
        "            img = load_img(image_path, target_size=(self.image_size, self.image_size))\n",
        "            img = img_to_array(img) / 255.0\n",
        "            batch_images[i] = img\n",
        "\n",
        "            caption = annotation['caption']\n",
        "            seq = self.tokenizer.texts_to_sequences([caption])[0]\n",
        "            if len(seq) > self.max_length:\n",
        "                seq = seq[:self.max_length]\n",
        "\n",
        "\n",
        "            batch_sequences[i, :len(seq)] = seq\n",
        "\n",
        "            # Target sequence, shifted by 1\n",
        "            if len(seq) > 1:\n",
        "                batch_targets[i, :len(seq)-1] = seq[1:]\n",
        "\n",
        "        return {\n",
        "            'input_layer_2': batch_images,\n",
        "            'input_layer_3': batch_sequences\n",
        "        }, batch_targets"
      ],
      "metadata": {
        "id": "_-O-sbxbV6rP"
      },
      "execution_count": 14,
      "outputs": []
    },
    {
      "cell_type": "code",
      "source": [
        "model = create_image_captioning_model(image_size, vocab_size, embedding_dim, max_length)\n",
        "model.compile(\n",
        "    optimizer='adam',\n",
        "    loss='sparse_categorical_crossentropy',\n",
        "    metrics=['accuracy']\n",
        ")"
      ],
      "metadata": {
        "id": "zIaUoDlNV9H2"
      },
      "execution_count": 17,
      "outputs": []
    },
    {
      "cell_type": "markdown",
      "source": [
        "I cannot train the model due to the limitations of Google Colab environment, but if you manage to train the model, you can make inference using the following cell. Below the inference cell, you can find the training code. Don't forget to reinitialize the model by simply running the previous cell after running the next cell (inference). Good luck!"
      ],
      "metadata": {
        "id": "G1dsq8P-cekt"
      }
    },
    {
      "cell_type": "code",
      "source": [
        "import numpy as np\n",
        "from tensorflow.keras.preprocessing.image import load_img, img_to_array\n",
        "\n",
        "def preprocess_image(image_path, image_size):\n",
        "    img = load_img(image_path, target_size=(image_size, image_size))\n",
        "    img = img_to_array(img) / 255.0\n",
        "    return np.expand_dims(img, axis=0)\n",
        "\n",
        "def generate_caption(model, tokenizer, image_path, image_size, max_length):\n",
        "\n",
        "    image = preprocess_image(image_path, image_size)\n",
        "\n",
        "    # Initialize the input sequence with zeros\n",
        "    input_sequence = np.zeros((1, max_length))\n",
        "\n",
        "    for i in range(max_length):\n",
        "        predictions = model.predict({'input_layer_2': image, 'input_layer_3': input_sequence})\n",
        "\n",
        "        predicted_word_id = np.argmax(predictions[0, i])\n",
        "\n",
        "        if predicted_word_id == tokenizer.word_index.get('<end>', None):\n",
        "            break\n",
        "\n",
        "        input_sequence[0, i] = predicted_word_id\n",
        "\n",
        "    caption = []\n",
        "    for word_id in input_sequence[0]:\n",
        "        if word_id == 0:\n",
        "            continue\n",
        "        word = tokenizer.index_word.get(word_id, '')\n",
        "        if word == '<end>':\n",
        "            break\n",
        "        caption.append(word)\n",
        "\n",
        "    return ' '.join(caption)\n",
        "\n",
        "\n",
        "image_path = 'apple.jpg'  # Replace with your image path\n",
        "caption = generate_caption(model, tokenizer, image_path, image_size, max_length)\n",
        "print(\"Generated Caption:\", caption)"
      ],
      "metadata": {
        "colab": {
          "base_uri": "https://localhost:8080/"
        },
        "id": "rDLQanHDVIaX",
        "outputId": "24dcbe34-237d-43f8-98a1-860207e5dfe8"
      },
      "execution_count": 16,
      "outputs": [
        {
          "output_type": "stream",
          "name": "stdout",
          "text": [
            "\u001b[1m1/1\u001b[0m \u001b[32m━━━━━━━━━━━━━━━━━━━━\u001b[0m\u001b[37m\u001b[0m \u001b[1m4s\u001b[0m 4s/step\n",
            "\u001b[1m1/1\u001b[0m \u001b[32m━━━━━━━━━━━━━━━━━━━━\u001b[0m\u001b[37m\u001b[0m \u001b[1m0s\u001b[0m 28ms/step\n",
            "\u001b[1m1/1\u001b[0m \u001b[32m━━━━━━━━━━━━━━━━━━━━\u001b[0m\u001b[37m\u001b[0m \u001b[1m0s\u001b[0m 29ms/step\n",
            "\u001b[1m1/1\u001b[0m \u001b[32m━━━━━━━━━━━━━━━━━━━━\u001b[0m\u001b[37m\u001b[0m \u001b[1m0s\u001b[0m 36ms/step\n",
            "\u001b[1m1/1\u001b[0m \u001b[32m━━━━━━━━━━━━━━━━━━━━\u001b[0m\u001b[37m\u001b[0m \u001b[1m0s\u001b[0m 33ms/step\n",
            "\u001b[1m1/1\u001b[0m \u001b[32m━━━━━━━━━━━━━━━━━━━━\u001b[0m\u001b[37m\u001b[0m \u001b[1m0s\u001b[0m 30ms/step\n",
            "\u001b[1m1/1\u001b[0m \u001b[32m━━━━━━━━━━━━━━━━━━━━\u001b[0m\u001b[37m\u001b[0m \u001b[1m0s\u001b[0m 29ms/step\n",
            "\u001b[1m1/1\u001b[0m \u001b[32m━━━━━━━━━━━━━━━━━━━━\u001b[0m\u001b[37m\u001b[0m \u001b[1m0s\u001b[0m 35ms/step\n",
            "\u001b[1m1/1\u001b[0m \u001b[32m━━━━━━━━━━━━━━━━━━━━\u001b[0m\u001b[37m\u001b[0m \u001b[1m0s\u001b[0m 32ms/step\n",
            "\u001b[1m1/1\u001b[0m \u001b[32m━━━━━━━━━━━━━━━━━━━━\u001b[0m\u001b[37m\u001b[0m \u001b[1m0s\u001b[0m 32ms/step\n",
            "\u001b[1m1/1\u001b[0m \u001b[32m━━━━━━━━━━━━━━━━━━━━\u001b[0m\u001b[37m\u001b[0m \u001b[1m0s\u001b[0m 29ms/step\n",
            "\u001b[1m1/1\u001b[0m \u001b[32m━━━━━━━━━━━━━━━━━━━━\u001b[0m\u001b[37m\u001b[0m \u001b[1m0s\u001b[0m 24ms/step\n",
            "\u001b[1m1/1\u001b[0m \u001b[32m━━━━━━━━━━━━━━━━━━━━\u001b[0m\u001b[37m\u001b[0m \u001b[1m0s\u001b[0m 20ms/step\n",
            "\u001b[1m1/1\u001b[0m \u001b[32m━━━━━━━━━━━━━━━━━━━━\u001b[0m\u001b[37m\u001b[0m \u001b[1m0s\u001b[0m 24ms/step\n",
            "\u001b[1m1/1\u001b[0m \u001b[32m━━━━━━━━━━━━━━━━━━━━\u001b[0m\u001b[37m\u001b[0m \u001b[1m0s\u001b[0m 18ms/step\n",
            "\u001b[1m1/1\u001b[0m \u001b[32m━━━━━━━━━━━━━━━━━━━━\u001b[0m\u001b[37m\u001b[0m \u001b[1m0s\u001b[0m 18ms/step\n",
            "\u001b[1m1/1\u001b[0m \u001b[32m━━━━━━━━━━━━━━━━━━━━\u001b[0m\u001b[37m\u001b[0m \u001b[1m0s\u001b[0m 22ms/step\n",
            "\u001b[1m1/1\u001b[0m \u001b[32m━━━━━━━━━━━━━━━━━━━━\u001b[0m\u001b[37m\u001b[0m \u001b[1m0s\u001b[0m 19ms/step\n",
            "\u001b[1m1/1\u001b[0m \u001b[32m━━━━━━━━━━━━━━━━━━━━\u001b[0m\u001b[37m\u001b[0m \u001b[1m0s\u001b[0m 18ms/step\n",
            "\u001b[1m1/1\u001b[0m \u001b[32m━━━━━━━━━━━━━━━━━━━━\u001b[0m\u001b[37m\u001b[0m \u001b[1m0s\u001b[0m 18ms/step\n",
            "\u001b[1m1/1\u001b[0m \u001b[32m━━━━━━━━━━━━━━━━━━━━\u001b[0m\u001b[37m\u001b[0m \u001b[1m0s\u001b[0m 20ms/step\n",
            "\u001b[1m1/1\u001b[0m \u001b[32m━━━━━━━━━━━━━━━━━━━━\u001b[0m\u001b[37m\u001b[0m \u001b[1m0s\u001b[0m 19ms/step\n",
            "\u001b[1m1/1\u001b[0m \u001b[32m━━━━━━━━━━━━━━━━━━━━\u001b[0m\u001b[37m\u001b[0m \u001b[1m0s\u001b[0m 18ms/step\n",
            "\u001b[1m1/1\u001b[0m \u001b[32m━━━━━━━━━━━━━━━━━━━━\u001b[0m\u001b[37m\u001b[0m \u001b[1m0s\u001b[0m 22ms/step\n",
            "\u001b[1m1/1\u001b[0m \u001b[32m━━━━━━━━━━━━━━━━━━━━\u001b[0m\u001b[37m\u001b[0m \u001b[1m0s\u001b[0m 22ms/step\n",
            "\u001b[1m1/1\u001b[0m \u001b[32m━━━━━━━━━━━━━━━━━━━━\u001b[0m\u001b[37m\u001b[0m \u001b[1m0s\u001b[0m 18ms/step\n",
            "\u001b[1m1/1\u001b[0m \u001b[32m━━━━━━━━━━━━━━━━━━━━\u001b[0m\u001b[37m\u001b[0m \u001b[1m0s\u001b[0m 19ms/step\n",
            "\u001b[1m1/1\u001b[0m \u001b[32m━━━━━━━━━━━━━━━━━━━━\u001b[0m\u001b[37m\u001b[0m \u001b[1m0s\u001b[0m 19ms/step\n",
            "\u001b[1m1/1\u001b[0m \u001b[32m━━━━━━━━━━━━━━━━━━━━\u001b[0m\u001b[37m\u001b[0m \u001b[1m0s\u001b[0m 19ms/step\n",
            "\u001b[1m1/1\u001b[0m \u001b[32m━━━━━━━━━━━━━━━━━━━━\u001b[0m\u001b[37m\u001b[0m \u001b[1m0s\u001b[0m 19ms/step\n",
            "\u001b[1m1/1\u001b[0m \u001b[32m━━━━━━━━━━━━━━━━━━━━\u001b[0m\u001b[37m\u001b[0m \u001b[1m0s\u001b[0m 18ms/step\n",
            "\u001b[1m1/1\u001b[0m \u001b[32m━━━━━━━━━━━━━━━━━━━━\u001b[0m\u001b[37m\u001b[0m \u001b[1m0s\u001b[0m 18ms/step\n",
            "\u001b[1m1/1\u001b[0m \u001b[32m━━━━━━━━━━━━━━━━━━━━\u001b[0m\u001b[37m\u001b[0m \u001b[1m0s\u001b[0m 19ms/step\n",
            "\u001b[1m1/1\u001b[0m \u001b[32m━━━━━━━━━━━━━━━━━━━━\u001b[0m\u001b[37m\u001b[0m \u001b[1m0s\u001b[0m 23ms/step\n",
            "\u001b[1m1/1\u001b[0m \u001b[32m━━━━━━━━━━━━━━━━━━━━\u001b[0m\u001b[37m\u001b[0m \u001b[1m0s\u001b[0m 18ms/step\n",
            "\u001b[1m1/1\u001b[0m \u001b[32m━━━━━━━━━━━━━━━━━━━━\u001b[0m\u001b[37m\u001b[0m \u001b[1m0s\u001b[0m 21ms/step\n",
            "\u001b[1m1/1\u001b[0m \u001b[32m━━━━━━━━━━━━━━━━━━━━\u001b[0m\u001b[37m\u001b[0m \u001b[1m0s\u001b[0m 18ms/step\n",
            "\u001b[1m1/1\u001b[0m \u001b[32m━━━━━━━━━━━━━━━━━━━━\u001b[0m\u001b[37m\u001b[0m \u001b[1m0s\u001b[0m 18ms/step\n",
            "\u001b[1m1/1\u001b[0m \u001b[32m━━━━━━━━━━━━━━━━━━━━\u001b[0m\u001b[37m\u001b[0m \u001b[1m0s\u001b[0m 18ms/step\n",
            "\u001b[1m1/1\u001b[0m \u001b[32m━━━━━━━━━━━━━━━━━━━━\u001b[0m\u001b[37m\u001b[0m \u001b[1m0s\u001b[0m 18ms/step\n",
            "\u001b[1m1/1\u001b[0m \u001b[32m━━━━━━━━━━━━━━━━━━━━\u001b[0m\u001b[37m\u001b[0m \u001b[1m0s\u001b[0m 18ms/step\n",
            "\u001b[1m1/1\u001b[0m \u001b[32m━━━━━━━━━━━━━━━━━━━━\u001b[0m\u001b[37m\u001b[0m \u001b[1m0s\u001b[0m 18ms/step\n",
            "\u001b[1m1/1\u001b[0m \u001b[32m━━━━━━━━━━━━━━━━━━━━\u001b[0m\u001b[37m\u001b[0m \u001b[1m0s\u001b[0m 27ms/step\n",
            "\u001b[1m1/1\u001b[0m \u001b[32m━━━━━━━━━━━━━━━━━━━━\u001b[0m\u001b[37m\u001b[0m \u001b[1m0s\u001b[0m 19ms/step\n",
            "\u001b[1m1/1\u001b[0m \u001b[32m━━━━━━━━━━━━━━━━━━━━\u001b[0m\u001b[37m\u001b[0m \u001b[1m0s\u001b[0m 23ms/step\n",
            "\u001b[1m1/1\u001b[0m \u001b[32m━━━━━━━━━━━━━━━━━━━━\u001b[0m\u001b[37m\u001b[0m \u001b[1m0s\u001b[0m 17ms/step\n",
            "\u001b[1m1/1\u001b[0m \u001b[32m━━━━━━━━━━━━━━━━━━━━\u001b[0m\u001b[37m\u001b[0m \u001b[1m0s\u001b[0m 22ms/step\n",
            "\u001b[1m1/1\u001b[0m \u001b[32m━━━━━━━━━━━━━━━━━━━━\u001b[0m\u001b[37m\u001b[0m \u001b[1m0s\u001b[0m 19ms/step\n",
            "\u001b[1m1/1\u001b[0m \u001b[32m━━━━━━━━━━━━━━━━━━━━\u001b[0m\u001b[37m\u001b[0m \u001b[1m0s\u001b[0m 18ms/step\n",
            "\u001b[1m1/1\u001b[0m \u001b[32m━━━━━━━━━━━━━━━━━━━━\u001b[0m\u001b[37m\u001b[0m \u001b[1m0s\u001b[0m 18ms/step\n",
            "Generated Caption: teeth teeth teeth teeth teeth teeth teeth teeth teeth teeth teeth teeth teeth teeth teeth teeth teeth teeth teeth teeth teeth teeth teeth teeth teeth teeth teeth teeth teeth teeth teeth teeth teeth teeth teeth teeth teeth teeth teeth teeth teeth teeth teeth teeth teeth teeth teeth teeth teeth teeth\n"
          ]
        }
      ]
    },
    {
      "cell_type": "markdown",
      "source": [
        "You probably got a silly caption, because the model is not trained. You can train it using the cells below."
      ],
      "metadata": {
        "id": "1VQFgW-gd70q"
      }
    },
    {
      "cell_type": "code",
      "source": [
        "batch_size = 2\n",
        "train_generator = ImageCaptioningDataGenerator(\n",
        "    image_dir=image_dir,\n",
        "    annotations_file=annotations_file,\n",
        "    tokenizer=tokenizer,\n",
        "    batch_size=batch_size,\n",
        "    image_size=image_size,\n",
        "    max_length=max_length\n",
        ")"
      ],
      "metadata": {
        "id": "wHy9SkF_b344"
      },
      "execution_count": 18,
      "outputs": []
    },
    {
      "cell_type": "code",
      "source": [
        "history = model.fit(\n",
        "    train_generator,\n",
        "    epochs=1,\n",
        "    steps_per_epoch=len(train_generator)\n",
        ")"
      ],
      "metadata": {
        "colab": {
          "base_uri": "https://localhost:8080/"
        },
        "id": "6MpWq_xHSCc8",
        "outputId": "e003bb0f-e090-491f-a061-59abdd64fe9f"
      },
      "execution_count": null,
      "outputs": [
        {
          "output_type": "stream",
          "name": "stderr",
          "text": [
            "/usr/local/lib/python3.10/dist-packages/keras/src/trainers/data_adapters/py_dataset_adapter.py:122: UserWarning: Your `PyDataset` class should call `super().__init__(**kwargs)` in its constructor. `**kwargs` can include `workers`, `use_multiprocessing`, `max_queue_size`. Do not pass these arguments to `fit()`, as they will be ignored.\n",
            "  self._warn_if_super_not_called()\n"
          ]
        },
        {
          "output_type": "stream",
          "name": "stdout",
          "text": [
            "\u001b[1m   264/295876\u001b[0m \u001b[37m━━━━━━━━━━━━━━━━━━━━\u001b[0m \u001b[1m14:13:17\u001b[0m 173ms/step - accuracy: 0.7789 - loss: 2.3163"
          ]
        }
      ]
    }
  ]
}